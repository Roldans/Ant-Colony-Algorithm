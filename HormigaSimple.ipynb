{
 "cells": [
  {
   "cell_type": "code",
   "execution_count": 1,
   "metadata": {
    "collapsed": true
   },
   "outputs": [],
   "source": [
    "import copy\n",
    "import random"
   ]
  },
  {
   "cell_type": "code",
   "execution_count": 2,
   "metadata": {
    "collapsed": true
   },
   "outputs": [],
   "source": [
    "def LanzadorPruebas(FicheroTexto,CapacidadMax,Ajuste,TasaDeAumento,TasaDeEvaporacion,NumHormigas):\n",
    "    Objetos= LeeFichero(FicheroTexto)\n",
    "    Objetos=OrdenaObjetos(Objetos)\n",
    "    NumObjetos= len(Objetos)\n",
    "    Feromonas=[]\n",
    "    for i in range(NumObjetos):\n",
    "        Feromonas.append(100000)\n",
    "    Probabilidades=CalculaProbabilidades(Objetos,Feromonas,Ajuste)\n",
    "    return Hormiguero(Objetos,Feromonas,CapacidadMax,Ajuste,TasaDeAumento,TasaDeEvaporacion,NumHormigas)\n",
    "\n"
   ]
  },
  {
   "cell_type": "code",
   "execution_count": 3,
   "metadata": {
    "collapsed": false
   },
   "outputs": [],
   "source": [
    "#Lanzador de hormigas y actualizador del valir de feromonas a uno mas alto\n",
    "def Lanzador(FicheroTexto,CapacidadMax,TasaDeAumento,TasaDeEvaporacion,NumHormigas):\n",
    "    Ajuste=[0.5,0.5,2]\n",
    "    Objetos= LeeFichero(FicheroTexto)\n",
    "    Objetos=OrdenaObjetos(Objetos)\n",
    "    NumObjetos= len(Objetos)\n",
    "    Feromonas=[]\n",
    "    for i in range(NumObjetos):\n",
    "        Feromonas.append(100000)\n",
    "    Probabilidades=CalculaProbabilidades(Objetos,Feromonas,Ajuste)\n",
    "    solucion=Hormiguero(Objetos,Feromonas,CapacidadMax,Ajuste,TasaDeAumento,TasaDeEvaporacion,NumHormigas)\n",
    "    solucionDescodificada=[[],]\n",
    "  \n",
    "    for o in range(NumObjetos):        \n",
    "        if(solucion[1][o]==1):\n",
    "            solucionDescodificada[0].append(Objetos[o])\n",
    "    solucionDescodificada.append(solucion[2])\n",
    "    solucionDescodificada.append(solucion[0])   \n",
    "    return solucionDescodificada"
   ]
  },
  {
   "cell_type": "code",
   "execution_count": 4,
   "metadata": {
    "collapsed": true
   },
   "outputs": [],
   "source": [
    "#Generador de las soluciones para un hormiguero\n",
    "def Hormiguero(Objetos=[[],],Feromonas=[],CapacidadMax=0,Ajuste=[0,0,0],TasaDeAumento=0,TasaDeEvaporacion=0,NumeroHormigas=0):\n",
    "\n",
    "    MejorSolucion=[0,InstanciaArray(Objetos),0]#{ValorTotal,{Lista de objetos cogidos}}\n",
    "    #SolucionActual=[0,[0,0,0,0,0,0,0,0,0,0],0]#Solucion para la hormiga\n",
    "    Probabilidades=CalculaProbabilidades(Objetos,Feromonas,Ajuste)#Calcula las probabilidades según la formula mágica\n",
    "   \n",
    "    for i in range(NumeroHormigas):#Bucle Hormiguero,se repite una vez por cada hormiga\n",
    "        SolucionActual=[0,InstanciaArray(Objetos),0]#Solucion para la hormiga\n",
    "        SolucionActual[1]=Hormiga(Objetos,Probabilidades,CapacidadMax)#el recorrido de cada hormiga individual\n",
    "       \n",
    "       \n",
    "        for z in range(len(SolucionActual[1])):\n",
    "            SolucionActual[0]+=SolucionActual[1][z]*Objetos[z][2]#Sumatorio de valor\n",
    "            \n",
    "        if(MejorSolucion[0]<SolucionActual[0]):#Actualizacion de Mejor Solución\n",
    "            MejorSolucion=SolucionActual\n",
    "            \n",
    "        ActualizaFeromonas(Feromonas,MejorSolucion[1],TasaDeAumento,TasaDeEvaporacion)#Actualiza las feromonas tras cada hormiga\n",
    "        Probabilidades=CalculaProbabilidades(Objetos,Feromonas,Ajuste)#se actualiza las probabilidades con las nuevas feromonas\n",
    "\n",
    "    #print(Feromonas)\n",
    "    for y in range(len(MejorSolucion[1])):\n",
    "        MejorSolucion[2]+=MejorSolucion[1][y]*Objetos[y][1]#Sumatorio de pesos\n",
    "    return MejorSolucion\n"
   ]
  },
  {
   "cell_type": "code",
   "execution_count": 5,
   "metadata": {
    "collapsed": false
   },
   "outputs": [],
   "source": [
    "#Ordena la lista de objetos en funcion de su Valor/Peso de mayor a menor\n",
    "def OrdenaObjetos(Objetos=[[],]):\n",
    "    res=[]\n",
    "    ls = copy.deepcopy(Objetos)       #copia la lista\n",
    "    max=0                             #objeto con mayor ratio\n",
    "    for j in range(len(Objetos)):     #bucle en para toda la lista de objetos\n",
    "        maxvp=0                       #mayor ratio\n",
    "        \n",
    "        for i in range(len(ls)):      #bucle interno para los objetos que queda sin seleccionar\n",
    "            \n",
    "            if maxvp<ls[i][2]/ls[i][1]:#si se encuentra un objeto mejor se actualiza\n",
    "                \n",
    "                maxvp=ls[i][2]/ls[i][1]#actualizamos el maximo ratio\n",
    "                max=i                  #actualizamos el objeto\n",
    "        res.append(ls[max])            #terminado el bucle se añade el objeto seleccionado\n",
    "        ls.pop(max)                    #el objeto seleccionado se elimina de la lista copia\n",
    "    return res"
   ]
  },
  {
   "cell_type": "code",
   "execution_count": 6,
   "metadata": {
    "collapsed": true
   },
   "outputs": [],
   "source": [
    "#Creacion de una solucion para una hormiga a partir de un numero rando y de el conjunto de valoresç\n",
    "#obtenidos a partir de las feromonas\n",
    "def Hormiga(Objetos=[],Probabilidades=[],CapacidadMAX=0):\n",
    "    Solucion=InstanciaArray(Objetos)\n",
    "    Capacidad=0\n",
    "    for i in range(len(Probabilidades)): \n",
    "        alea=random.random()\n",
    "        #print(alea)\n",
    "        if(alea<Probabilidades[i]):\n",
    "            if(CapacidadMAX>Capacidad+Objetos[i][1]):\n",
    "                Solucion[i]=1\n",
    "                Capacidad = Capacidad+Objetos[i][1]\n",
    "        else:\n",
    "            Solucion[i]=0\n",
    "    return Solucion         "
   ]
  },
  {
   "cell_type": "code",
   "execution_count": 7,
   "metadata": {
    "collapsed": true
   },
   "outputs": [],
   "source": [
    "#Actualizacion de la lista de feromonas tras un viaje de una hormiga\n",
    "def ActualizaFeromonas(Feromonas=[],UltimaSolucion=[],TasaDeAumento=0,TasaDeEvaporacion=0):\n",
    "    for i in range(len(Feromonas)):\n",
    "        if(UltimaSolucion[i]==1):\n",
    "            Feromonas[i]=Feromonas[i]+TasaDeAumento\n",
    "        if(Feromonas[i]>=TasaDeEvaporacion):\n",
    "            Feromonas[i]=Feromonas[i]-TasaDeEvaporacion     "
   ]
  },
  {
   "cell_type": "code",
   "execution_count": 8,
   "metadata": {
    "collapsed": true
   },
   "outputs": [],
   "source": [
    "#Transformacion del array inicial en un array numerico\n",
    "def TransformaArray(Arr=[]):\n",
    "    Arrf=Arr\n",
    "    for i in range(len(Arr)):\n",
    "        for z in range(len(Arr[i])):\n",
    "            Arrf[i][z]=int(Arr[i][z])\n",
    "    return Arrf"
   ]
  },
  {
   "cell_type": "code",
   "execution_count": 13,
   "metadata": {
    "collapsed": false
   },
   "outputs": [],
   "source": [
    "#print(TransformaArray([['4', '7', '8'], ['3', '5', '6'], ['2', '3', '4'], ['1', '2', '3']]))"
   ]
  },
  {
   "cell_type": "code",
   "execution_count": 10,
   "metadata": {
    "collapsed": true
   },
   "outputs": [],
   "source": [
    "#Fichero en formato 'nombre,peso,valor/n nombre,peso,valor/n ...... nombre,peso,valor/n '\n",
    "def LeeFichero(FicheroHormigas):#Fichero en formato '......'\n",
    "    infile = open(FicheroHormigas, 'r')\n",
    "    ArSal=[]\n",
    "    for line in infile:\n",
    "        lines=line.rstrip('\\n')\n",
    "        i=0\n",
    "        ArSal.insert(i,lines.split(','))\n",
    "        i=i+1\n",
    "    # Cerramos el fichero.\n",
    "    infile.close()\n",
    "    return TransformaArray(ArSal)"
   ]
  },
  {
   "cell_type": "code",
   "execution_count": 12,
   "metadata": {
    "collapsed": false
   },
   "outputs": [],
   "source": [
    "#LeeFichero('Test2.txt')"
   ]
  },
  {
   "cell_type": "code",
   "execution_count": null,
   "metadata": {
    "collapsed": true
   },
   "outputs": [],
   "source": [
    "#Calculo de las probabilidades a partir de la lista de objetos, las feromonas y el ajuste\n",
    "def CalculaProbabilidades(Objetos=[[],],Feromonas=[],Ajuste=[]):\n",
    "    Acum=0\n",
    "    F=[]\n",
    "    P=[]\n",
    "    for i in range(len(Feromonas)):\n",
    "        F.append((Feromonas[i]**Ajuste[0])*((1/Objetos[i][1])**Ajuste[1])*((1-(1/Objetos[i][2]))**Ajuste[2]))\n",
    "        Acum+=F[i]\n",
    "    for f in F:\n",
    "        P.append(f/Acum)\n",
    "   \n",
    "    return P"
   ]
  },
  {
   "cell_type": "code",
   "execution_count": null,
   "metadata": {
    "collapsed": false
   },
   "outputs": [],
   "source": [
    "def InstanciaArray(Objetos=[[],]):#devuelve una lista llena de 0 del tamaño de la lista Objetos\n",
    "    res=[]\n",
    "    for i in Objetos:\n",
    "        res.append(0)\n",
    "    return res"
   ]
  },
  {
   "cell_type": "code",
   "execution_count": 14,
   "metadata": {
    "collapsed": false
   },
   "outputs": [],
   "source": [
    "#Tests con ficheros y valores diferentes, creo que introducir un valor inicial xa las feromonas\n",
    "#en el marco generico seria lo suyo\n",
    "def Pruebas():\n",
    "    for i in range(1,11):\n",
    "\n",
    "        Ponderadores=[0.5,0.5,0.5]\n",
    "        Capacidad=0\n",
    "        #print(Ponderadores)\n",
    "        archi=open('ResultadosPruebas/SolucionesSimple '+'Test '+str(i)+'.txt','w')\n",
    "        archi2=open('ResultadosPruebasExcel/SolucionesExcelSimple '+'Test '+str(i)+'.txt','w')\n",
    "\n",
    "        if i==1:\n",
    "            Capacidad=123\n",
    "        if i==2:\n",
    "            Capacidad=28\n",
    "        if i==3:\n",
    "            Capacidad=22\n",
    "        if i==4:\n",
    "            Capacidad=36\n",
    "        if i==5:\n",
    "            Capacidad=48\n",
    "        if i==6:\n",
    "            Capacidad=290\n",
    "        if i==7:\n",
    "            Capacidad=91\n",
    "        if i==8:\n",
    "            Capacidad=168\n",
    "        if i==9:\n",
    "            Capacidad=306\n",
    "        if i==10:\n",
    "            Capacidad=360\n",
    "        for Y in range(0,10):\n",
    "            archi2.write(str(Ponderadores)+';')\n",
    "            for z in range(0,10):\n",
    "                MejorSolucion=LanzadorPruebas('Objetos/Test'+str(i)+'.txt',Capacidad,Ponderadores,2,0.5,1000)\n",
    "                #print(\"Test\"+str(i)+\",Intento:\"+str(z)+str(MejorSolucion))#100000\n",
    "                archi.write(\"Test\"+str(i)+\",Ponderadores: \"+str(Ponderadores)+\",Intento:\"+str(z)+str(MejorSolucion)+'\\n')\n",
    "                archi2.write(str(MejorSolucion[0])+';')\n",
    "                #print('-----------------------------------------------------------------------------------------')\n",
    "            if Y==0:\n",
    "                Ponderadores[0]=Ponderadores[0]*2\n",
    "            if Y==1:\n",
    "                Ponderadores[1]=Ponderadores[1]*2\n",
    "            if Y==2:\n",
    "                Ponderadores[0]=Ponderadores[0]/2\n",
    "            if Y==3:\n",
    "                Ponderadores[2]=Ponderadores[2]*2\n",
    "            if Y==4:\n",
    "                Ponderadores[1]=Ponderadores[1]/2\n",
    "            if Y==5:\n",
    "                Ponderadores[2]=Ponderadores[2]*2\n",
    "            if Y==6:\n",
    "                Ponderadores[1]=Ponderadores[1]*4\n",
    "            if Y==7:\n",
    "                Ponderadores[2]=Ponderadores[2]/4\n",
    "            if Y==8:\n",
    "                Ponderadores[0]=Ponderadores[0]*4\n",
    "\n",
    "\n",
    "\n",
    "            archi.write('-----------------------------------------------------------------------------------------'+'\\n')\n",
    "            archi2.write('\\n')\n",
    "\n",
    "        archi.write('-----------------------------------------------------------------------------------------'+'\\n')\n",
    "        archi2.write('-----------------------------------------------------------------------------------------'+'\\n')\n",
    "        print('----------------------------------------------'+str(i)+'-------------------------------------------')\n",
    "        archi.close()\n",
    "        archi2.close()"
   ]
  },
  {
   "cell_type": "code",
   "execution_count": null,
   "metadata": {
    "collapsed": false
   },
   "outputs": [],
   "source": []
  }
 ],
 "metadata": {
  "kernelspec": {
   "display_name": "Python 3",
   "language": "python",
   "name": "python3"
  },
  "language_info": {
   "codemirror_mode": {
    "name": "ipython",
    "version": 3
   },
   "file_extension": ".py",
   "mimetype": "text/x-python",
   "name": "python",
   "nbconvert_exporter": "python",
   "pygments_lexer": "ipython3",
   "version": "3.5.1"
  }
 },
 "nbformat": 4,
 "nbformat_minor": 0
}
